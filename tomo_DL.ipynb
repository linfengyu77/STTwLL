{
 "cells": [
  {
   "cell_type": "code",
   "execution_count": null,
   "metadata": {},
   "outputs": [],
   "source": [
    "import torch\n",
    "import scipy\n",
    "import numpy as np\n",
    "from dict_layer import Model, dictloss\n",
    "import os\n",
    "import NES\n",
    "import scipy.io as io\n",
    "from utlis import survey_deisgn, slownessMap, patchSamp, getPatches, rmse, vd\n",
    "from LsTomo import conventional_tomo2\n",
    "import matplotlib.pyplot as plt\n",
    "from scipy.sparse.linalg import lsqr\n",
    "from itkm import itkm\n",
    "from omp_n import omp_n\n",
    "from scipy.sparse import csc_matrix\n",
    "from mpl_toolkits.axes_grid1 import make_axes_locatable\n",
    "####################################################################################\n",
    "np.random.seed(123)\n",
    "os.environ[\"CUDA_VISIBLE_DEVICES\"] = \"0\"\n",
    "torch.set_default_dtype(torch.float64)\n",
    "torch.manual_seed(0)\n",
    "torch.cuda.manual_seed_all(0)\n",
    "torch.backends.cudnn.benchmark = True\n",
    "torch.backends.cudnn.deterministic = True\n",
    "####################################################################################\n",
    "cuda = torch.cuda.is_available()\n",
    "device = torch.device('cuda' if torch.cuda.is_available() else 'cpu')\n",
    "torch.set_default_dtype(torch.float64)\n",
    "print(torch.cuda.device_count(),torch.cuda.get_device_properties(0), cuda, device)\n",
    "####################################################################################\n",
    "model = Model()\n",
    "model = model.to(device)\n",
    "# model = torch.nn.DataParallel(model, device_ids=device_ids)\n",
    "####################################################################################\n",
    "save_path = './Marmousi_smooth3_noise2/'\n",
    "if not os.path.exists(save_path):\n",
    "    os.mkdir(save_path)"
   ]
  },
  {
   "cell_type": "code",
   "execution_count": null,
   "metadata": {},
   "outputs": [],
   "source": [
    "Vel2D = NES.misc.Marmousi(smooth=3, section=[[600, 900], None]) # importing from NES package data\n",
    "vmin, vmax = Vel2D.min, Vel2D.max\n",
    "xmin, zmin = Vel2D.xmin\n",
    "xmax, zmax = Vel2D.xmax\n",
    "nx, nz = 100, 100\n",
    "x = np.linspace(xmin, xmax, nx)\n",
    "z = np.linspace(zmin, zmax, nz)\n",
    "Xr_2d = np.stack(np.meshgrid(x, z, indexing='ij'), axis=-1)\n",
    "V_2d = Vel2D(Xr_2d)\n",
    "sTrue = np.transpose(1/V_2d)\n",
    "plt.imshow(sTrue)\n",
    "plt.show()"
   ]
  },
  {
   "cell_type": "code",
   "execution_count": null,
   "metadata": {},
   "outputs": [],
   "source": [
    "Tarr, A, vb, vb2 = survey_deisgn(64, sTrue, save_path=save_path)\n",
    "noiseFrac = 0.02                                          # noise STD as fraction of mean value of travel time (0=noise free case)                                                \n",
    "stdNoise = np.mean(Tarr) * noiseFrac\n",
    "noise    = stdNoise * np.random.randn(Tarr.shape[0], Tarr.shape[1])\n",
    "Tarr_n   = Tarr + noise                                  \n",
    "Asum = np.sum(A, axis=1, keepdims=True)                                    # estimating referense slowness from travel time observations\n",
    "invAsum = np.linalg.pinv(Asum)\n",
    "sRef = invAsum @ Tarr_n                                     # Tarr_n: 1x2016 A: 2016x10000 vb:10000x1\n",
    "#######################################################################################\n",
    "\n",
    "w1, w2 = sTrue.shape\n",
    "patch_size = 10\n",
    "patches  = getPatches(w1, w2, patch_size)        # calculating image patch indices\n",
    "percZero = patchSamp(A, patches)       # percentage ray coverage in patches\n",
    "ss = np.zeros((vb.size, 1))\n",
    "npp, npatches = patches.shape\n",
    "nrays, npix   = A.shape\n",
    "normError = [np.linalg.norm(Tarr_n - A @ (ss + sRef))]\n",
    "print('Trave time initinal error: {}'.format(normError))\n",
    "############################################################\n",
    "epoch = 50\n",
    "natom = 150\n",
    "iters = 50\n",
    "lam2  = 0\n",
    "D_sparse = 1\n",
    "C_sparse = 1"
   ]
  },
  {
   "cell_type": "code",
   "execution_count": null,
   "metadata": {},
   "outputs": [],
   "source": [
    "for i in range(iters):\n",
    "    dt  = Tarr_n - A @ (ss + sRef)\n",
    "    spA = csc_matrix(A)\n",
    "    ds  = lsqr(spA, dt, damp=10, iter_lim=1e3)[0]\n",
    "    ds  = np.expand_dims(ds, axis=1)\n",
    "    sg = ds + ss\n",
    "    Y   = sg.flatten()[patches]\n",
    "    meanY = np.mean(Y, axis=0, keepdims=True)\n",
    "    Yc = Y - meanY\n",
    "    Yl = Yc[:, percZero <= 0.1]\n",
    "    D = itkm(Yl, natom, 2, 50)\n",
    "    X = omp_n(D, Yc, 2)\n",
    "    ss_b = D @ X + meanY\n",
    "    ss_p_sum = np.zeros(ss.shape)\n",
    "    \n",
    "    for k in range(npatches):\n",
    "        ss_p_sum[patches[:, k], 0] = ss_p_sum[patches[:, k], 0] + ss_b[:, k]\n",
    "    \n",
    "    ss_f = (lam2 * sg + ss_p_sum)/(lam2 + npp)\n",
    "    ss   = ss_f * vb2\n",
    "    Tref = A @ (ss + sRef)\n",
    "    normError_new = np.linalg.norm(Tref - Tarr_n)\n",
    "    print('Iter: {}, inversion norm error: {}'.format(i+1, normError_new))"
   ]
  },
  {
   "cell_type": "code",
   "execution_count": null,
   "metadata": {},
   "outputs": [],
   "source": []
  }
 ],
 "metadata": {
  "kernelspec": {
   "display_name": "Python 3",
   "language": "python",
   "name": "python3"
  },
  "language_info": {
   "name": "python",
   "version": "3.10.6 (tags/v3.10.6:9c7b4bd, Aug  1 2022, 21:53:49) [MSC v.1932 64 bit (AMD64)]"
  },
  "orig_nbformat": 4,
  "vscode": {
   "interpreter": {
    "hash": "807cc6a481f25a5b222cd58a3949a299ed2f2634387eaba6775d5c01f71eeb59"
   }
  }
 },
 "nbformat": 4,
 "nbformat_minor": 2
}
